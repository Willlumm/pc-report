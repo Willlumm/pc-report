{
 "cells": [
  {
   "cell_type": "code",
   "execution_count": null,
   "metadata": {},
   "outputs": [],
   "source": [
    "import pandas as pd\n",
    "\n",
    "df = pd.read_excel(\"./input/rcr.xlsx\", skiprows=12)\n",
    "dfs = [df]"
   ]
  },
  {
   "cell_type": "code",
   "execution_count": null,
   "metadata": {},
   "outputs": [],
   "source": [
    "import os\n",
    "import re\n",
    "\n",
    "for fp in os.listdir(\"./historic/\"):\n",
    "    df = pd.read_csv(f\"./historic/{fp}\")\n",
    "    dfs.append(df)\n",
    "\n",
    "df = pd.concat(dfs, ignore_index=True)"
   ]
  },
  {
   "cell_type": "code",
   "execution_count": null,
   "metadata": {},
   "outputs": [],
   "source": [
    "# df[\"CLASS\"] = \"\"\n",
    "# df[\"Form Factor\"] = \"\"\n",
    "# uk = df[df.Country==\"United Kingdom\"]\n",
    "# uk_apple_surface = uk[uk[\"Sub Family\"].isin([\"Apple Other\", \"Surface Pro\", \"Surface Laptop\"])]\n",
    "# uk_other = uk[~uk[\"Sub Family\"].isin([\"Apple Other\", \"Surface Pro\", \"Surface Laptop\"])]\n",
    "\n",
    "# figs = df[df.Country!=\"United Kingdom\"]\n",
    "# figs_windows = figs[figs[\"OS Ecosystem\"]==\"Windows\"]"
   ]
  },
  {
   "cell_type": "code",
   "execution_count": null,
   "metadata": {},
   "outputs": [],
   "source": [
    "# df[\"CLASS\"] = df[\"Sub Family\"]\n",
    "# df.loc[(df[\"OS Ecosystem\"]==\"Windows\") & (~df.CLASS.str.contains(\"Surface\")), \"CLASS\"] = \"Windows OEM\"\n",
    "# df.loc[df.CLASS.str.contains(\"Chromebook\"), \"CLASS\"] = \"Chromebook\""
   ]
  },
  {
   "cell_type": "code",
   "execution_count": null,
   "metadata": {},
   "outputs": [],
   "source": [
    "df.loc[(df.Country!=\"United Kingdom\") & (df[\"OS Ecosystem\"]==\"Windows\") & (df[\"Sub Family\"].str.contains(\"Surface\")), \"CLASS\"] = df[\"Sub Family\"]\n",
    "df.loc[(df.Country!=\"United Kingdom\") & (df[\"OS Ecosystem\"]==\"Windows\") & (~df[\"Sub Family\"].str.contains(\"Surface\")), \"CLASS\"] = \"Windows OEM\"\n",
    "df.loc[(df.Country!=\"United Kingdom\") & (df[\"OS Ecosystem\"]==\"Apple\"), \"CLASS\"] = df[\"Sub Family\"]\n",
    "df.loc[(df.Country!=\"United Kingdom\") & (df[\"OS Ecosystem\"]==\"Google\") & df[\"Sub Family\"].str.contains(\"Chromebook\"), \"CLASS\"] = \"Chromebook\"\n",
    "df.loc[(df.Country!=\"United Kingdom\") & (df[\"OS Ecosystem\"]==\"Google\") & (~df[\"Sub Family\"].str.contains(\"Chromebook\", na=False)), \"CLASS\"] = \"Other\"\n",
    "df.loc[(df.Country==\"United Kingdom\") & (df[\"OS Ecosystem\"]==\"Windows\") & (df[\"Sub Family\"]==\"Undefined\"), \"CLASS\"] = \"Windows OEM\"\n",
    "df.loc[(df.Country==\"United Kingdom\") & (df[\"OS Ecosystem\"]!=\"Windows\") & (df[\"Sub Family\"]==\"Undefined\"), \"CLASS\"] = \"Other\""
   ]
  },
  {
   "cell_type": "code",
   "execution_count": null,
   "metadata": {},
   "outputs": [],
   "source": [
    "figs = df[df.Country!=\"United Kingdom\"]\n",
    "uk = df[df.Country==\"United Kingdom\"]\n",
    "uk_apple_surface = uk[uk[\"Sub Family\"].isin([\"Apple Other\", \"Surface Pro\", \"Surface Laptop\"])]\n",
    "uk_other = uk[~uk[\"Sub Family\"].isin([\"Apple Other\", \"Surface Pro\", \"Surface Laptop\"])]"
   ]
  },
  {
   "cell_type": "code",
   "execution_count": null,
   "metadata": {},
   "outputs": [],
   "source": [
    "lookup = pd.read_csv(\"./lookup/UK Lookup Table.txt\")\n",
    "uk_apple_surface = uk_apple_surface.merge(right=lookup, how=\"left\", on=[\"Series\", \"Screen Size Numeric\", \"PCHeight(mm)\"], suffixes=[\"_old\", None])\n",
    "uk_apple_surface.drop(columns=\"CLASS_old\", inplace=True)"
   ]
  },
  {
   "cell_type": "code",
   "execution_count": null,
   "metadata": {},
   "outputs": [],
   "source": [
    "df = pd.concat([figs, uk_apple_surface, uk_other])"
   ]
  },
  {
   "cell_type": "code",
   "execution_count": null,
   "metadata": {},
   "outputs": [],
   "source": [
    "lookup = pd.read_csv(\"./lookup/Date Table.txt\")\n",
    "df[\"Week End\"] = pd.to_datetime(df[\"Week End\"], format=\"%m/%d/%Y\")\n",
    "lookup[\"Week End\"] = pd.to_datetime(lookup[\"Week End\"], format=\"%d/%m/%Y %H:%M:%S\")\n",
    "df = df.merge(right=lookup, how=\"left\", on=\"Week End\")"
   ]
  },
  {
   "cell_type": "code",
   "execution_count": null,
   "metadata": {},
   "outputs": [],
   "source": [
    "form_factor_map = {\n",
    "    \"Detachable\":           \"2in1\",\n",
    "    \"Traditional Desktop\":  \"Desktop\",\n",
    "    \"Traditional Notebook\": \"Notebook\",\n",
    "    \"Convertible\":          \"2in1\",\n",
    "    \"Large Slate\":          \"2in1\",\n",
    "    \"AIO\":                  \"Desktop\",\n",
    "    \"Ultraslim Notebook\":   \"Notebook\"\n",
    "}\n",
    "df.loc[df.CLASS==\"Surface Laptop Studio\", \"Sub Form Factor\"] = \"Convertible\"\n",
    "df[\"Form Factor\"] = df[\"Sub Form Factor\"].map(form_factor_map)"
   ]
  },
  {
   "cell_type": "code",
   "execution_count": 104,
   "metadata": {},
   "outputs": [
    {
     "ename": "KeyboardInterrupt",
     "evalue": "",
     "output_type": "error",
     "traceback": [
      "\u001b[1;31m---------------------------------------------------------------------------\u001b[0m",
      "\u001b[1;31mcom_error\u001b[0m                                 Traceback (most recent call last)",
      "File \u001b[1;32m~\\AppData\\Local\\Packages\\PythonSoftwareFoundation.Python.3.10_qbz5n2kfra8p0\\LocalCache\\local-packages\\Python310\\site-packages\\xlwings\\_xlwindows.py:719\u001b[0m, in \u001b[0;36mBooks.__call__\u001b[1;34m(self, name_or_index)\u001b[0m\n\u001b[0;32m    718\u001b[0m \u001b[39mtry\u001b[39;00m:\n\u001b[1;32m--> 719\u001b[0m     \u001b[39mreturn\u001b[39;00m Book(xl\u001b[39m=\u001b[39m\u001b[39mself\u001b[39;49m\u001b[39m.\u001b[39;49mxl(name_or_index))\n\u001b[0;32m    720\u001b[0m \u001b[39mexcept\u001b[39;00m pywintypes\u001b[39m.\u001b[39mcom_error:\n",
      "File \u001b[1;32m~\\AppData\\Local\\Packages\\PythonSoftwareFoundation.Python.3.10_qbz5n2kfra8p0\\LocalCache\\local-packages\\Python310\\site-packages\\xlwings\\_xlwindows.py:223\u001b[0m, in \u001b[0;36mCOMRetryObjectWrapper.__call__\u001b[1;34m(self, *args, **kwargs)\u001b[0m\n\u001b[0;32m    222\u001b[0m \u001b[39mtry\u001b[39;00m:\n\u001b[1;32m--> 223\u001b[0m     v \u001b[39m=\u001b[39m \u001b[39mself\u001b[39m\u001b[39m.\u001b[39m_inner(\u001b[39m*\u001b[39margs, \u001b[39m*\u001b[39m\u001b[39m*\u001b[39mkwargs)\n\u001b[0;32m    224\u001b[0m     \u001b[39mif\u001b[39;00m \u001b[39misinstance\u001b[39m(v, (CDispatch, CoClassBaseClass, DispatchBaseClass)):\n",
      "File \u001b[1;32m~\\AppData\\Local\\Temp\\gen_py\\3.10\\00020813-0000-0000-C000-000000000046x0x1x9.py:41320\u001b[0m, in \u001b[0;36mWorkbooks.__call__\u001b[1;34m(self, Index)\u001b[0m\n\u001b[0;32m  41319\u001b[0m \u001b[39mdef\u001b[39;00m \u001b[39m__call__\u001b[39m(\u001b[39mself\u001b[39m, Index\u001b[39m=\u001b[39mdefaultNamedNotOptArg):\n\u001b[1;32m> 41320\u001b[0m \tret \u001b[39m=\u001b[39m \u001b[39mself\u001b[39;49m\u001b[39m.\u001b[39;49m_oleobj_\u001b[39m.\u001b[39;49mInvokeTypes(\u001b[39m0\u001b[39;49m, LCID, \u001b[39m2\u001b[39;49m, (\u001b[39m13\u001b[39;49m, \u001b[39m0\u001b[39;49m), ((\u001b[39m12\u001b[39;49m, \u001b[39m1\u001b[39;49m),),Index\n\u001b[0;32m  41321\u001b[0m \t\t)\n\u001b[0;32m  41322\u001b[0m \t\u001b[39mif\u001b[39;00m ret \u001b[39mis\u001b[39;00m \u001b[39mnot\u001b[39;00m \u001b[39mNone\u001b[39;00m:\n\u001b[0;32m  41323\u001b[0m \t\t\u001b[39m# See if this IUnknown is really an IDispatch\u001b[39;00m\n",
      "\u001b[1;31mcom_error\u001b[0m: (-2147352567, 'Exception occurred.', (0, None, None, None, 0, -2147352565), None)",
      "\nDuring handling of the above exception, another exception occurred:\n",
      "\u001b[1;31mKeyError\u001b[0m                                  Traceback (most recent call last)",
      "File \u001b[1;32m~\\AppData\\Local\\Packages\\PythonSoftwareFoundation.Python.3.10_qbz5n2kfra8p0\\LocalCache\\local-packages\\Python310\\site-packages\\xlwings\\main.py:5011\u001b[0m, in \u001b[0;36mBooks.open\u001b[1;34m(self, fullname, update_links, read_only, format, password, write_res_password, ignore_read_only_recommended, origin, delimiter, editable, notify, converter, add_to_mru, local, corrupt_load, json)\u001b[0m\n\u001b[0;32m   5010\u001b[0m \u001b[39mtry\u001b[39;00m:\n\u001b[1;32m-> 5011\u001b[0m     impl \u001b[39m=\u001b[39m \u001b[39mself\u001b[39;49m\u001b[39m.\u001b[39;49mimpl(name)\n\u001b[0;32m   5012\u001b[0m     \u001b[39mif\u001b[39;00m \u001b[39mnot\u001b[39;00m os\u001b[39m.\u001b[39mpath\u001b[39m.\u001b[39msamefile(impl\u001b[39m.\u001b[39mfullname, fullname):\n",
      "File \u001b[1;32m~\\AppData\\Local\\Packages\\PythonSoftwareFoundation.Python.3.10_qbz5n2kfra8p0\\LocalCache\\local-packages\\Python310\\site-packages\\xlwings\\_xlwindows.py:721\u001b[0m, in \u001b[0;36mBooks.__call__\u001b[1;34m(self, name_or_index)\u001b[0m\n\u001b[0;32m    720\u001b[0m \u001b[39mexcept\u001b[39;00m pywintypes\u001b[39m.\u001b[39mcom_error:\n\u001b[1;32m--> 721\u001b[0m     \u001b[39mraise\u001b[39;00m \u001b[39mKeyError\u001b[39;00m(name_or_index)\n",
      "\u001b[1;31mKeyError\u001b[0m: 'GfK-Weekly-UFIGS-FY23-FYWK43 CYWK17.xlsx'",
      "\nDuring handling of the above exception, another exception occurred:\n",
      "\u001b[1;31mKeyboardInterrupt\u001b[0m                         Traceback (most recent call last)",
      "\u001b[1;32mc:\\Users\\a-wlumme\\Desktop\\pc-report\\report.ipynb Cell 11\u001b[0m in \u001b[0;36m1\n\u001b[0;32m     <a href='vscode-notebook-cell:/c%3A/Users/a-wlumme/Desktop/pc-report/report.ipynb#X12sZmlsZQ%3D%3D?line=10'>11</a>\u001b[0m df \u001b[39m=\u001b[39m df[[\n\u001b[0;32m     <a href='vscode-notebook-cell:/c%3A/Users/a-wlumme/Desktop/pc-report/report.ipynb#X12sZmlsZQ%3D%3D?line=11'>12</a>\u001b[0m     \u001b[39m\"\u001b[39m\u001b[39mCountry\u001b[39m\u001b[39m\"\u001b[39m, \u001b[39m\"\u001b[39m\u001b[39mSub Family\u001b[39m\u001b[39m\"\u001b[39m, \u001b[39m\"\u001b[39m\u001b[39mSeries\u001b[39m\u001b[39m\"\u001b[39m, \u001b[39m\"\u001b[39m\u001b[39mModel Description\u001b[39m\u001b[39m\"\u001b[39m, \u001b[39m\"\u001b[39m\u001b[39mStorage Capacity\u001b[39m\u001b[39m\"\u001b[39m, \u001b[39m\"\u001b[39m\u001b[39mCPU Group\u001b[39m\u001b[39m\"\u001b[39m,\n\u001b[0;32m     <a href='vscode-notebook-cell:/c%3A/Users/a-wlumme/Desktop/pc-report/report.ipynb#X12sZmlsZQ%3D%3D?line=12'>13</a>\u001b[0m     \u001b[39m\"\u001b[39m\u001b[39mCPU Ram\u001b[39m\u001b[39m\"\u001b[39m, \u001b[39m\"\u001b[39m\u001b[39mScreen Size Numeric\u001b[39m\u001b[39m\"\u001b[39m, \u001b[39m\"\u001b[39m\u001b[39mPCHeight(mm)\u001b[39m\u001b[39m\"\u001b[39m, \u001b[39m\"\u001b[39m\u001b[39mOS Ecosystem\u001b[39m\u001b[39m\"\u001b[39m, \u001b[39m\"\u001b[39m\u001b[39mSub Form Factor\u001b[39m\u001b[39m\"\u001b[39m,\n\u001b[0;32m     <a href='vscode-notebook-cell:/c%3A/Users/a-wlumme/Desktop/pc-report/report.ipynb#X12sZmlsZQ%3D%3D?line=13'>14</a>\u001b[0m     \u001b[39m\"\u001b[39m\u001b[39mPrice Band USD 3\u001b[39m\u001b[39m\"\u001b[39m, \u001b[39m\"\u001b[39m\u001b[39mWeek End\u001b[39m\u001b[39m\"\u001b[39m, \u001b[39m\"\u001b[39m\u001b[39mSALES UNITS\u001b[39m\u001b[39m\"\u001b[39m, \u001b[39m\"\u001b[39m\u001b[39mSALES VALUE USD\u001b[39m\u001b[39m\"\u001b[39m, \u001b[39m\"\u001b[39m\u001b[39mCLASS\u001b[39m\u001b[39m\"\u001b[39m, \u001b[39m\"\u001b[39m\u001b[39mForm Factor\u001b[39m\u001b[39m\"\u001b[39m,\n\u001b[0;32m     <a href='vscode-notebook-cell:/c%3A/Users/a-wlumme/Desktop/pc-report/report.ipynb#X12sZmlsZQ%3D%3D?line=14'>15</a>\u001b[0m     \u001b[39m\"\u001b[39m\u001b[39mFYWK\u001b[39m\u001b[39m\"\u001b[39m, \u001b[39m\"\u001b[39m\u001b[39mFY\u001b[39m\u001b[39m\"\u001b[39m\n\u001b[0;32m     <a href='vscode-notebook-cell:/c%3A/Users/a-wlumme/Desktop/pc-report/report.ipynb#X12sZmlsZQ%3D%3D?line=15'>16</a>\u001b[0m ]]\n\u001b[0;32m     <a href='vscode-notebook-cell:/c%3A/Users/a-wlumme/Desktop/pc-report/report.ipynb#X12sZmlsZQ%3D%3D?line=16'>17</a>\u001b[0m df \u001b[39m=\u001b[39m df[df[\u001b[39m\"\u001b[39m\u001b[39mWeek End\u001b[39m\u001b[39m\"\u001b[39m] \u001b[39m>\u001b[39m\u001b[39m=\u001b[39m \u001b[39m\"\u001b[39m\u001b[39m2022-01-08\u001b[39m\u001b[39m\"\u001b[39m]\n\u001b[1;32m---> <a href='vscode-notebook-cell:/c%3A/Users/a-wlumme/Desktop/pc-report/report.ipynb#X12sZmlsZQ%3D%3D?line=18'>19</a>\u001b[0m wb \u001b[39m=\u001b[39m xw\u001b[39m.\u001b[39;49mBook(fp)\n\u001b[0;32m     <a href='vscode-notebook-cell:/c%3A/Users/a-wlumme/Desktop/pc-report/report.ipynb#X12sZmlsZQ%3D%3D?line=19'>20</a>\u001b[0m sheet \u001b[39m=\u001b[39m wb\u001b[39m.\u001b[39msheets(\u001b[39m\"\u001b[39m\u001b[39mOutput_Table\u001b[39m\u001b[39m\"\u001b[39m)\n\u001b[0;32m     <a href='vscode-notebook-cell:/c%3A/Users/a-wlumme/Desktop/pc-report/report.ipynb#X12sZmlsZQ%3D%3D?line=20'>21</a>\u001b[0m sheet\u001b[39m.\u001b[39mrange(\u001b[39m\"\u001b[39m\u001b[39mA:S\u001b[39m\u001b[39m\"\u001b[39m)\u001b[39m.\u001b[39mclear_contents()\n",
      "File \u001b[1;32m~\\AppData\\Local\\Packages\\PythonSoftwareFoundation.Python.3.10_qbz5n2kfra8p0\\LocalCache\\local-packages\\Python310\\site-packages\\xlwings\\main.py:912\u001b[0m, in \u001b[0;36mBook.__init__\u001b[1;34m(self, fullname, update_links, read_only, format, password, write_res_password, ignore_read_only_recommended, origin, delimiter, editable, notify, converter, add_to_mru, local, corrupt_load, impl, json, mode, engine)\u001b[0m\n\u001b[0;32m    910\u001b[0m     \u001b[39mif\u001b[39;00m \u001b[39mnot\u001b[39;00m app:\n\u001b[0;32m    911\u001b[0m         app \u001b[39m=\u001b[39m App(add_book\u001b[39m=\u001b[39m\u001b[39mFalse\u001b[39;00m)\n\u001b[1;32m--> 912\u001b[0m     impl \u001b[39m=\u001b[39m app\u001b[39m.\u001b[39;49mbooks\u001b[39m.\u001b[39;49mopen(\n\u001b[0;32m    913\u001b[0m         fullname,\n\u001b[0;32m    914\u001b[0m         update_links,\n\u001b[0;32m    915\u001b[0m         read_only,\n\u001b[0;32m    916\u001b[0m         \u001b[39mformat\u001b[39;49m,\n\u001b[0;32m    917\u001b[0m         password,\n\u001b[0;32m    918\u001b[0m         write_res_password,\n\u001b[0;32m    919\u001b[0m         ignore_read_only_recommended,\n\u001b[0;32m    920\u001b[0m         origin,\n\u001b[0;32m    921\u001b[0m         delimiter,\n\u001b[0;32m    922\u001b[0m         editable,\n\u001b[0;32m    923\u001b[0m         notify,\n\u001b[0;32m    924\u001b[0m         converter,\n\u001b[0;32m    925\u001b[0m         add_to_mru,\n\u001b[0;32m    926\u001b[0m         local,\n\u001b[0;32m    927\u001b[0m         corrupt_load,\n\u001b[0;32m    928\u001b[0m     )\u001b[39m.\u001b[39mimpl\n\u001b[0;32m    929\u001b[0m \u001b[39melif\u001b[39;00m \u001b[39mlen\u001b[39m(candidates) \u001b[39m>\u001b[39m \u001b[39m1\u001b[39m:\n\u001b[0;32m    930\u001b[0m     \u001b[39mraise\u001b[39;00m \u001b[39mException\u001b[39;00m(\n\u001b[0;32m    931\u001b[0m         \u001b[39m\"\u001b[39m\u001b[39mWorkbook \u001b[39m\u001b[39m'\u001b[39m\u001b[39m%s\u001b[39;00m\u001b[39m'\u001b[39m\u001b[39m is open in more than one Excel instance.\u001b[39m\u001b[39m\"\u001b[39m\n\u001b[0;32m    932\u001b[0m         \u001b[39m%\u001b[39m fullname\n\u001b[0;32m    933\u001b[0m     )\n",
      "File \u001b[1;32m~\\AppData\\Local\\Packages\\PythonSoftwareFoundation.Python.3.10_qbz5n2kfra8p0\\LocalCache\\local-packages\\Python310\\site-packages\\xlwings\\main.py:5018\u001b[0m, in \u001b[0;36mBooks.open\u001b[1;34m(self, fullname, update_links, read_only, format, password, write_res_password, ignore_read_only_recommended, origin, delimiter, editable, notify, converter, add_to_mru, local, corrupt_load, json)\u001b[0m\n\u001b[0;32m   5013\u001b[0m         \u001b[39mraise\u001b[39;00m \u001b[39mValueError\u001b[39;00m(\n\u001b[0;32m   5014\u001b[0m             \u001b[39m\"\u001b[39m\u001b[39mCannot open two workbooks named \u001b[39m\u001b[39m'\u001b[39m\u001b[39m%s\u001b[39;00m\u001b[39m'\u001b[39m\u001b[39m, even if they are saved in\u001b[39m\u001b[39m\"\u001b[39m\n\u001b[0;32m   5015\u001b[0m             \u001b[39m\"\u001b[39m\u001b[39mdifferent locations.\u001b[39m\u001b[39m\"\u001b[39m \u001b[39m%\u001b[39m name\n\u001b[0;32m   5016\u001b[0m         )\n\u001b[0;32m   5017\u001b[0m \u001b[39mexcept\u001b[39;00m \u001b[39mKeyError\u001b[39;00m:\n\u001b[1;32m-> 5018\u001b[0m     impl \u001b[39m=\u001b[39m \u001b[39mself\u001b[39;49m\u001b[39m.\u001b[39;49mimpl\u001b[39m.\u001b[39;49mopen(\n\u001b[0;32m   5019\u001b[0m         fullname,\n\u001b[0;32m   5020\u001b[0m         update_links,\n\u001b[0;32m   5021\u001b[0m         read_only,\n\u001b[0;32m   5022\u001b[0m         \u001b[39mformat\u001b[39;49m,\n\u001b[0;32m   5023\u001b[0m         password,\n\u001b[0;32m   5024\u001b[0m         write_res_password,\n\u001b[0;32m   5025\u001b[0m         ignore_read_only_recommended,\n\u001b[0;32m   5026\u001b[0m         origin,\n\u001b[0;32m   5027\u001b[0m         delimiter,\n\u001b[0;32m   5028\u001b[0m         editable,\n\u001b[0;32m   5029\u001b[0m         notify,\n\u001b[0;32m   5030\u001b[0m         converter,\n\u001b[0;32m   5031\u001b[0m         add_to_mru,\n\u001b[0;32m   5032\u001b[0m         local,\n\u001b[0;32m   5033\u001b[0m         corrupt_load,\n\u001b[0;32m   5034\u001b[0m     )\n\u001b[0;32m   5035\u001b[0m \u001b[39mreturn\u001b[39;00m Book(impl\u001b[39m=\u001b[39mimpl)\n",
      "File \u001b[1;32m~\\AppData\\Local\\Packages\\PythonSoftwareFoundation.Python.3.10_qbz5n2kfra8p0\\LocalCache\\local-packages\\Python310\\site-packages\\xlwings\\_xlwindows.py:753\u001b[0m, in \u001b[0;36mBooks.open\u001b[1;34m(self, fullname, update_links, read_only, format, password, write_res_password, ignore_read_only_recommended, origin, delimiter, editable, notify, converter, add_to_mru, local, corrupt_load)\u001b[0m\n\u001b[0;32m    750\u001b[0m     update_links \u001b[39m=\u001b[39m UpdateLinks\u001b[39m.\u001b[39mxlUpdateLinksAlways\n\u001b[0;32m    751\u001b[0m \u001b[39m# Workbooks.Open params are position only on pywin32\u001b[39;00m\n\u001b[0;32m    752\u001b[0m \u001b[39mreturn\u001b[39;00m Book(\n\u001b[1;32m--> 753\u001b[0m     xl\u001b[39m=\u001b[39m\u001b[39mself\u001b[39;49m\u001b[39m.\u001b[39;49mxl\u001b[39m.\u001b[39;49mOpen(\n\u001b[0;32m    754\u001b[0m         fullname,\n\u001b[0;32m    755\u001b[0m         update_links,\n\u001b[0;32m    756\u001b[0m         read_only,\n\u001b[0;32m    757\u001b[0m         \u001b[39mformat\u001b[39;49m,\n\u001b[0;32m    758\u001b[0m         password,\n\u001b[0;32m    759\u001b[0m         write_res_password,\n\u001b[0;32m    760\u001b[0m         ignore_read_only_recommended,\n\u001b[0;32m    761\u001b[0m         origin,\n\u001b[0;32m    762\u001b[0m         delimiter,\n\u001b[0;32m    763\u001b[0m         editable,\n\u001b[0;32m    764\u001b[0m         notify,\n\u001b[0;32m    765\u001b[0m         converter,\n\u001b[0;32m    766\u001b[0m         add_to_mru,\n\u001b[0;32m    767\u001b[0m         local,\n\u001b[0;32m    768\u001b[0m         corrupt_load,\n\u001b[0;32m    769\u001b[0m     )\n\u001b[0;32m    770\u001b[0m )\n",
      "File \u001b[1;32m~\\AppData\\Local\\Packages\\PythonSoftwareFoundation.Python.3.10_qbz5n2kfra8p0\\LocalCache\\local-packages\\Python310\\site-packages\\xlwings\\_xlwindows.py:109\u001b[0m, in \u001b[0;36mCOMRetryMethodWrapper.__call__\u001b[1;34m(self, *args, **kwargs)\u001b[0m\n\u001b[0;32m    107\u001b[0m \u001b[39mwhile\u001b[39;00m \u001b[39mTrue\u001b[39;00m:\n\u001b[0;32m    108\u001b[0m     \u001b[39mtry\u001b[39;00m:\n\u001b[1;32m--> 109\u001b[0m         v \u001b[39m=\u001b[39m \u001b[39mself\u001b[39m\u001b[39m.\u001b[39m__method(\u001b[39m*\u001b[39margs, \u001b[39m*\u001b[39m\u001b[39m*\u001b[39mkwargs)\n\u001b[0;32m    110\u001b[0m         \u001b[39mif\u001b[39;00m \u001b[39misinstance\u001b[39m(v, (CDispatch, CoClassBaseClass, DispatchBaseClass)):\n\u001b[0;32m    111\u001b[0m             \u001b[39mreturn\u001b[39;00m COMRetryObjectWrapper(v)\n",
      "File \u001b[1;32m~\\AppData\\Local\\Temp\\gen_py\\3.10\\00020813-0000-0000-C000-000000000046x0x1x9.py:41197\u001b[0m, in \u001b[0;36mWorkbooks.Open\u001b[1;34m(self, Filename, UpdateLinks, ReadOnly, Format, Password, WriteResPassword, IgnoreReadOnlyRecommended, Origin, Delimiter, Editable, Notify, Converter, AddToMru, Local, CorruptLoad)\u001b[0m\n\u001b[0;32m  41193\u001b[0m \u001b[39mdef\u001b[39;00m \u001b[39mOpen\u001b[39m(\u001b[39mself\u001b[39m, Filename\u001b[39m=\u001b[39mdefaultNamedNotOptArg, UpdateLinks\u001b[39m=\u001b[39mdefaultNamedOptArg, ReadOnly\u001b[39m=\u001b[39mdefaultNamedOptArg, Format\u001b[39m=\u001b[39mdefaultNamedOptArg\n\u001b[0;32m  41194\u001b[0m \t\t, Password\u001b[39m=\u001b[39mdefaultNamedOptArg, WriteResPassword\u001b[39m=\u001b[39mdefaultNamedOptArg, IgnoreReadOnlyRecommended\u001b[39m=\u001b[39mdefaultNamedOptArg, Origin\u001b[39m=\u001b[39mdefaultNamedOptArg, Delimiter\u001b[39m=\u001b[39mdefaultNamedOptArg\n\u001b[0;32m  41195\u001b[0m \t\t, Editable\u001b[39m=\u001b[39mdefaultNamedOptArg, Notify\u001b[39m=\u001b[39mdefaultNamedOptArg, Converter\u001b[39m=\u001b[39mdefaultNamedOptArg, AddToMru\u001b[39m=\u001b[39mdefaultNamedOptArg, Local\u001b[39m=\u001b[39mdefaultNamedOptArg\n\u001b[0;32m  41196\u001b[0m \t\t, CorruptLoad\u001b[39m=\u001b[39mdefaultNamedOptArg):\n\u001b[1;32m> 41197\u001b[0m \tret \u001b[39m=\u001b[39m \u001b[39mself\u001b[39;49m\u001b[39m.\u001b[39;49m_oleobj_\u001b[39m.\u001b[39;49mInvokeTypes(\u001b[39m1923\u001b[39;49m, LCID, \u001b[39m1\u001b[39;49m, (\u001b[39m13\u001b[39;49m, \u001b[39m0\u001b[39;49m), ((\u001b[39m8\u001b[39;49m, \u001b[39m1\u001b[39;49m), (\u001b[39m12\u001b[39;49m, \u001b[39m17\u001b[39;49m), (\u001b[39m12\u001b[39;49m, \u001b[39m17\u001b[39;49m), (\u001b[39m12\u001b[39;49m, \u001b[39m17\u001b[39;49m), (\u001b[39m12\u001b[39;49m, \u001b[39m17\u001b[39;49m), (\u001b[39m12\u001b[39;49m, \u001b[39m17\u001b[39;49m), (\u001b[39m12\u001b[39;49m, \u001b[39m17\u001b[39;49m), (\u001b[39m12\u001b[39;49m, \u001b[39m17\u001b[39;49m), (\u001b[39m12\u001b[39;49m, \u001b[39m17\u001b[39;49m), (\u001b[39m12\u001b[39;49m, \u001b[39m17\u001b[39;49m), (\u001b[39m12\u001b[39;49m, \u001b[39m17\u001b[39;49m), (\u001b[39m12\u001b[39;49m, \u001b[39m17\u001b[39;49m), (\u001b[39m12\u001b[39;49m, \u001b[39m17\u001b[39;49m), (\u001b[39m12\u001b[39;49m, \u001b[39m17\u001b[39;49m), (\u001b[39m12\u001b[39;49m, \u001b[39m17\u001b[39;49m)),Filename\n\u001b[0;32m  41198\u001b[0m \t\t, UpdateLinks, ReadOnly, Format, Password, WriteResPassword\n\u001b[0;32m  41199\u001b[0m \t\t, IgnoreReadOnlyRecommended, Origin, Delimiter, Editable, Notify\n\u001b[0;32m  41200\u001b[0m \t\t, Converter, AddToMru, Local, CorruptLoad)\n\u001b[0;32m  41201\u001b[0m \t\u001b[39mif\u001b[39;00m ret \u001b[39mis\u001b[39;00m \u001b[39mnot\u001b[39;00m \u001b[39mNone\u001b[39;00m:\n\u001b[0;32m  41202\u001b[0m \t\t\u001b[39m# See if this IUnknown is really an IDispatch\u001b[39;00m\n\u001b[0;32m  41203\u001b[0m \t\t\u001b[39mtry\u001b[39;00m:\n",
      "\u001b[1;31mKeyboardInterrupt\u001b[0m: "
     ]
    }
   ],
   "source": [
    "import xlwings as xw\n",
    "\n",
    "for fp in os.listdir():\n",
    "    if re.fullmatch(r\"GfK-Weekly-UFIGS-FY\\d{2}-FYWK\\d{2} CYWK\\d{2}.xlsx\", fp):\n",
    "        break\n",
    "\n",
    "fy = df.FY.max()\n",
    "fywk = df[df.FY==fy].FYWK.max()\n",
    "cywk = (fywk + 26) % 52\n",
    "\n",
    "df = df[[\n",
    "    \"Country\", \"Sub Family\", \"Series\", \"Model Description\", \"Storage Capacity\", \"CPU Group\",\n",
    "    \"CPU Ram\", \"Screen Size Numeric\", \"PCHeight(mm)\", \"OS Ecosystem\", \"Sub Form Factor\",\n",
    "    \"Price Band USD 3\", \"Week End\", \"SALES UNITS\", \"SALES VALUE USD\", \"CLASS\", \"Form Factor\",\n",
    "    \"FYWK\", \"FY\"\n",
    "]]\n",
    "df = df[df[\"Week End\"] >= \"2022-01-08\"]\n",
    "\n",
    "wb = xw.Book(fp)\n",
    "sheet = wb.sheets(\"Output_Table\")\n",
    "sheet.range(\"A:S\").clear_contents()\n",
    "sheet[\"A1\"].options(index=False, header=True).value = df\n",
    "wb.save(f\"GfK-Weekly-UFIGS-FY{fy:01}-FYWK{fywk:01} CYWK{cywk:01}.xlsx\")\n",
    "# wb.close()"
   ]
  }
 ],
 "metadata": {
  "kernelspec": {
   "display_name": "Python 3",
   "language": "python",
   "name": "python3"
  },
  "language_info": {
   "codemirror_mode": {
    "name": "ipython",
    "version": 3
   },
   "file_extension": ".py",
   "mimetype": "text/x-python",
   "name": "python",
   "nbconvert_exporter": "python",
   "pygments_lexer": "ipython3",
   "version": "3.10.11"
  },
  "orig_nbformat": 4
 },
 "nbformat": 4,
 "nbformat_minor": 2
}
