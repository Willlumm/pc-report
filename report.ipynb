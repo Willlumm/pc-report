{
 "cells": [
  {
   "cell_type": "code",
   "execution_count": 105,
   "metadata": {},
   "outputs": [],
   "source": [
    "import pandas as pd\n",
    "\n",
    "df = pd.read_excel(\"./input/rcr.xlsx\", skiprows=12)\n",
    "dfs = [df]"
   ]
  },
  {
   "cell_type": "code",
   "execution_count": 106,
   "metadata": {},
   "outputs": [],
   "source": [
    "import os\n",
    "import re\n",
    "\n",
    "for fp in os.listdir(\"./historic/\"):\n",
    "    df = pd.read_csv(f\"./historic/{fp}\")\n",
    "    dfs.append(df)\n",
    "\n",
    "df = pd.concat(dfs, ignore_index=True)"
   ]
  },
  {
   "cell_type": "code",
   "execution_count": 107,
   "metadata": {},
   "outputs": [],
   "source": [
    "# df[\"CLASS\"] = \"\"\n",
    "# df[\"Form Factor\"] = \"\"\n",
    "# uk = df[df.Country==\"United Kingdom\"]\n",
    "# uk_apple_surface = uk[uk[\"Sub Family\"].isin([\"Apple Other\", \"Surface Pro\", \"Surface Laptop\"])]\n",
    "# uk_other = uk[~uk[\"Sub Family\"].isin([\"Apple Other\", \"Surface Pro\", \"Surface Laptop\"])]\n",
    "\n",
    "# figs = df[df.Country!=\"United Kingdom\"]\n",
    "# figs_windows = figs[figs[\"OS Ecosystem\"]==\"Windows\"]"
   ]
  },
  {
   "cell_type": "code",
   "execution_count": 108,
   "metadata": {},
   "outputs": [],
   "source": [
    "# df[\"CLASS\"] = df[\"Sub Family\"]\n",
    "# df.loc[(df[\"OS Ecosystem\"]==\"Windows\") & (~df.CLASS.str.contains(\"Surface\")), \"CLASS\"] = \"Windows OEM\"\n",
    "# df.loc[df.CLASS.str.contains(\"Chromebook\"), \"CLASS\"] = \"Chromebook\""
   ]
  },
  {
   "cell_type": "code",
   "execution_count": 109,
   "metadata": {},
   "outputs": [],
   "source": [
    "df.loc[(df.Country!=\"United Kingdom\") & (df[\"OS Ecosystem\"]==\"Windows\") & (df[\"Sub Family\"].str.contains(\"Surface\")), \"CLASS\"] = df[\"Sub Family\"]\n",
    "df.loc[(df.Country!=\"United Kingdom\") & (df[\"OS Ecosystem\"]==\"Windows\") & (~df[\"Sub Family\"].str.contains(\"Surface\")), \"CLASS\"] = \"Windows OEM\"\n",
    "df.loc[(df.Country!=\"United Kingdom\") & (df[\"OS Ecosystem\"]==\"Apple\"), \"CLASS\"] = df[\"Sub Family\"]\n",
    "df.loc[(df.Country!=\"United Kingdom\") & (df[\"OS Ecosystem\"]==\"Google\") & df[\"Sub Family\"].str.contains(\"Chromebook\"), \"CLASS\"] = \"Chromebook\"\n",
    "df.loc[(df.Country!=\"United Kingdom\") & (df[\"OS Ecosystem\"]==\"Google\") & (~df[\"Sub Family\"].str.contains(\"Chromebook\", na=False)), \"CLASS\"] = \"Other\"\n",
    "df.loc[(df.Country==\"United Kingdom\") & (df[\"OS Ecosystem\"]==\"Windows\") & (df[\"Sub Family\"]==\"Undefined\"), \"CLASS\"] = \"Windows OEM\"\n",
    "df.loc[(df.Country==\"United Kingdom\") & (df[\"OS Ecosystem\"]!=\"Windows\") & (df[\"Sub Family\"]==\"Undefined\"), \"CLASS\"] = \"Other\""
   ]
  },
  {
   "cell_type": "code",
   "execution_count": 110,
   "metadata": {},
   "outputs": [],
   "source": [
    "figs = df[df.Country!=\"United Kingdom\"]\n",
    "uk = df[df.Country==\"United Kingdom\"]\n",
    "uk_apple_surface = uk[uk[\"Sub Family\"].isin([\"Apple Other\", \"Surface Pro\", \"Surface Laptop\"])]\n",
    "uk_other = uk[~uk[\"Sub Family\"].isin([\"Apple Other\", \"Surface Pro\", \"Surface Laptop\"])]"
   ]
  },
  {
   "cell_type": "code",
   "execution_count": 111,
   "metadata": {},
   "outputs": [],
   "source": [
    "lookup = pd.read_csv(\"./lookup/UK Lookup Table.txt\")\n",
    "uk_apple_surface = uk_apple_surface.merge(right=lookup, how=\"left\", on=[\"Series\", \"Screen Size Numeric\", \"PCHeight(mm)\"], suffixes=[\"_old\", None])\n",
    "uk_apple_surface.drop(columns=\"CLASS_old\", inplace=True)"
   ]
  },
  {
   "cell_type": "code",
   "execution_count": 112,
   "metadata": {},
   "outputs": [],
   "source": [
    "df = pd.concat([figs, uk_apple_surface, uk_other])"
   ]
  },
  {
   "cell_type": "code",
   "execution_count": 113,
   "metadata": {},
   "outputs": [],
   "source": [
    "lookup = pd.read_csv(\"./lookup/Date Table.txt\")\n",
    "df[\"Week End\"] = pd.to_datetime(df[\"Week End\"], format=\"%m/%d/%Y\")\n",
    "lookup[\"Week End\"] = pd.to_datetime(lookup[\"Week End\"], format=\"%d/%m/%Y %H:%M:%S\")\n",
    "df = df.merge(right=lookup, how=\"left\", on=\"Week End\")"
   ]
  },
  {
   "cell_type": "code",
   "execution_count": 114,
   "metadata": {},
   "outputs": [],
   "source": [
    "form_factor_map = {\n",
    "    \"Detachable\":           \"2in1\",\n",
    "    \"Traditional Desktop\":  \"Desktop\",\n",
    "    \"Traditional Notebook\": \"Notebook\",\n",
    "    \"Convertible\":          \"2in1\",\n",
    "    \"Large Slate\":          \"2in1\",\n",
    "    \"AIO\":                  \"Desktop\",\n",
    "    \"Ultraslim Notebook\":   \"Notebook\"\n",
    "}\n",
    "df.loc[df.CLASS==\"Surface Laptop Studio\", \"Sub Form Factor\"] = \"Convertible\"\n",
    "df[\"Form Factor\"] = df[\"Sub Form Factor\"].map(form_factor_map)"
   ]
  },
  {
   "cell_type": "code",
   "execution_count": 115,
   "metadata": {},
   "outputs": [],
   "source": [
    "import xlwings as xw\n",
    "\n",
    "for fp in os.listdir(\"./reports/\"):\n",
    "    if re.fullmatch(r\"GfK-Weekly-UFIGS-FY\\d{2}-FYWK\\d{2} CYWK\\d{2}.xlsx\", fp):\n",
    "        break\n",
    "\n",
    "fy = df.FY.max()\n",
    "fywk = df[df.FY==fy].FYWK.max()\n",
    "cywk = (fywk + 26) % 52\n",
    "\n",
    "df = df[[\n",
    "    \"Country\", \"Sub Family\", \"Series\", \"Model Description\", \"Storage Capacity\", \"CPU Group\",\n",
    "    \"CPU Ram\", \"Screen Size Numeric\", \"PCHeight(mm)\", \"OS Ecosystem\", \"Sub Form Factor\",\n",
    "    \"Price Band USD 3\", \"Week End\", \"SALES UNITS\", \"SALES VALUE USD\", \"CLASS\", \"Form Factor\",\n",
    "    \"FYWK\", \"FY\"\n",
    "]]\n",
    "df = df[df[\"Week End\"] >= \"2022-01-08\"]\n",
    "\n",
    "wb = xw.Book(f\"./reports/{fp}\")\n",
    "sheet = wb.sheets(\"Output_Table\")\n",
    "sheet.range(\"A:S\").clear_contents()\n",
    "sheet[\"A1\"].options(index=False, header=True).value = df\n",
    "wb.save(f\"./reports/GfK-Weekly-UFIGS-FY{fy:01}-FYWK{fywk:01} CYWK{cywk:01}.xlsx\")\n",
    "# wb.close()"
   ]
  }
 ],
 "metadata": {
  "kernelspec": {
   "display_name": "Python 3",
   "language": "python",
   "name": "python3"
  },
  "language_info": {
   "codemirror_mode": {
    "name": "ipython",
    "version": 3
   },
   "file_extension": ".py",
   "mimetype": "text/x-python",
   "name": "python",
   "nbconvert_exporter": "python",
   "pygments_lexer": "ipython3",
   "version": "3.10.11"
  },
  "orig_nbformat": 4
 },
 "nbformat": 4,
 "nbformat_minor": 2
}
